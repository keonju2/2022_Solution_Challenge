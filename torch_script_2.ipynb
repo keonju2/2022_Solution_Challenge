{
  "nbformat": 4,
  "nbformat_minor": 0,
  "metadata": {
    "colab": {
      "name": "torch_script_2.ipynb",
      "provenance": [],
      "collapsed_sections": [],
      "machine_shape": "hm",
      "authorship_tag": "ABX9TyOWVD3dl+CLGjNatnPHTTjk",
      "include_colab_link": true
    },
    "kernelspec": {
      "name": "python3",
      "display_name": "Python 3"
    },
    "language_info": {
      "name": "python"
    },
    "accelerator": "GPU"
  },
  "cells": [
    {
      "cell_type": "markdown",
      "metadata": {
        "id": "view-in-github",
        "colab_type": "text"
      },
      "source": [
        "<a href=\"https://colab.research.google.com/github/keonju2/sol_ch/blob/main/torch_script_2.ipynb\" target=\"_parent\"><img src=\"https://colab.research.google.com/assets/colab-badge.svg\" alt=\"Open In Colab\"/></a>"
      ]
    },
    {
      "cell_type": "code",
      "execution_count": null,
      "metadata": {
        "colab": {
          "base_uri": "https://localhost:8080/"
        },
        "id": "StOgvEosdutq",
        "outputId": "c89bad1d-b167-4a3b-8ac7-b75ad372979f"
      },
      "outputs": [
        {
          "output_type": "stream",
          "name": "stdout",
          "text": [
            "Mounted at /content/gdrive\n"
          ]
        }
      ],
      "source": [
        "from google.colab import drive\n",
        "drive.mount('/content/gdrive')"
      ]
    },
    {
      "cell_type": "code",
      "source": [
        "!git clone https://github.com/ultralytics/yolov5\n",
        "cd yolov5\n",
        "!pip install -r requirements.txt wanb"
      ],
      "metadata": {
        "colab": {
          "base_uri": "https://localhost:8080/",
          "height": 138
        },
        "id": "nhvpIbnO7nri",
        "outputId": "db541fab-ef57-4d0e-bb8b-9a345c291e25"
      },
      "execution_count": null,
      "outputs": [
        {
          "output_type": "error",
          "ename": "SyntaxError",
          "evalue": "ignored",
          "traceback": [
            "\u001b[0;36m  File \u001b[0;32m\"<ipython-input-2-596af33a0dbd>\"\u001b[0;36m, line \u001b[0;32m2\u001b[0m\n\u001b[0;31m    cd yolov5\u001b[0m\n\u001b[0m            ^\u001b[0m\n\u001b[0;31mSyntaxError\u001b[0m\u001b[0;31m:\u001b[0m invalid syntax\n"
          ]
        }
      ]
    },
    {
      "cell_type": "code",
      "source": [
        "!python export.py --weights /content/gdrive/MyDrive/result/7th/exp/weights/best.pt --include torchscript"
      ],
      "metadata": {
        "colab": {
          "base_uri": "https://localhost:8080/"
        },
        "id": "xaOGgKqv8c21",
        "outputId": "66a96fb3-0bfa-434a-8fcb-d87b50c02336"
      },
      "execution_count": null,
      "outputs": [
        {
          "output_type": "stream",
          "name": "stdout",
          "text": [
            "\u001b[34m\u001b[1mexport: \u001b[0mdata=data/coco128.yaml, weights=['/content/gdrive/MyDrive/result/7th/exp/weights/best.pt'], imgsz=[640, 640], batch_size=1, device=cpu, half=False, inplace=False, train=False, optimize=False, int8=False, dynamic=False, simplify=False, opset=12, verbose=False, workspace=4, nms=False, agnostic_nms=False, topk_per_class=100, topk_all=100, iou_thres=0.45, conf_thres=0.25, include=['torchscript']\n",
            "YOLOv5 🚀 v6.1-32-gc13d4ce torch 1.10.0+cu111 CPU\n",
            "\n",
            "Fusing layers... \n",
            "Model Summary: 224 layers, 7056607 parameters, 0 gradients\n",
            "\n",
            "\u001b[34m\u001b[1mPyTorch:\u001b[0m starting from /content/gdrive/MyDrive/result/7th/exp/weights/best.pt with output shape (1, 25200, 7) (13.7 MB)\n",
            "\n",
            "\u001b[34m\u001b[1mTorchScript:\u001b[0m starting export with torch 1.10.0+cu111...\n",
            "\u001b[34m\u001b[1mTorchScript:\u001b[0m export success, saved as /content/gdrive/MyDrive/result/7th/exp/weights/best.torchscript.pt (27.4 MB)\n",
            "\n",
            "Export complete (3.92s)\n",
            "Results saved to \u001b[1m/content/gdrive/MyDrive/result/7th/exp/weights\u001b[0m\n",
            "Detect:          python detect.py --weights /content/gdrive/MyDrive/result/7th/exp/weights/best.torchscript.pt\n",
            "PyTorch Hub:     model = torch.hub.load('ultralytics/yolov5', 'custom', '/content/gdrive/MyDrive/result/7th/exp/weights/best.torchscript.pt')\n",
            "Validate:        python val.py --weights /content/gdrive/MyDrive/result/7th/exp/weights/best.torchscript.pt\n",
            "Visualize:       https://netron.app\n"
          ]
        }
      ]
    }
  ]
}